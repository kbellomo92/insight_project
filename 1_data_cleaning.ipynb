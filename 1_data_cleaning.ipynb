{
 "cells": [
  {
   "cell_type": "markdown",
   "metadata": {},
   "source": [
    "# Part 1: Data cleaning\n",
    "\n",
    "## Ad Navigator: A tool to optimize online marketing investments\n",
    "## Insight data science project\n",
    "\n",
    "In this notebook I am going to describe how I cleaned online marketing data collected from Facebook. In the following notebook, I go into the details of data analysis and exploration. The initial dataset is a large excel file, with multiple sheets corresponding to day in which the data are updated and containing information regarding current day as well as all the previous days from the beginning of the marketing campaign.\n",
    "\n",
    "Here I am going to be a bit generic regarding the data information, going into more detail in part 2 of this project.\n",
    "\n"
   ]
  },
  {
   "cell_type": "code",
   "execution_count": 7,
   "metadata": {
    "collapsed": true
   },
   "outputs": [],
   "source": [
    "import pandas as pd\n",
    "from pandas import ExcelWriter, ExcelFile\n",
    "import numpy as np\n",
    "from datetime import date, timedelta\n",
    "import warnings\n",
    "warnings.filterwarnings('ignore')"
   ]
  },
  {
   "cell_type": "code",
   "execution_count": 4,
   "metadata": {
    "collapsed": false
   },
   "outputs": [],
   "source": [
    "#Here I am creaing a list of dates which will allow me to iterate through the dataset\n",
    "\n",
    "sample_list1 = ['2017-{0:02d}-{1:02d}'.format(mon, day) for mon in range(10,13) for day in range(1, 32)] \n",
    "sample_list2 = ['2018-{0:02d}-{1:02d}'.format(mon, day) for mon in range(1,2) for day in range(1, 11)] \n",
    "sample_list1.remove('2017-11-31')\n",
    "sample_list1.remove('2017-10-21')\n",
    "\n",
    "del sample_list1[0:20]\n",
    "dates0= sample_list1+sample_list2\n",
    "dates = dates0[0:len(dates0)-2]\n",
    "\n"
   ]
  },
  {
   "cell_type": "code",
   "execution_count": 9,
   "metadata": {
    "collapsed": false
   },
   "outputs": [],
   "source": [
    "#Creating a dictionary of dates, each item containing a table/dataframe\n",
    "#Converting the index to a date time objectdict_ex = {}\n",
    "dict_ex ={}\n",
    "for date in dates:\n",
    "    \n",
    "    dfc = pd.read_csv('data_csv_files/'+date+'.csv')\n",
    "    dfc.drop(dfc.index[:2], inplace=True)\n",
    "    dfc[\"Reporting Starts\"]=pd.to_datetime(dfc[\"Reporting Starts\"])\n",
    "    dfc.index = dfc[\"Reporting Starts\"]\n",
    "    dfc = dfc['10-21-2017':date]\n",
    "    dict_ex[date] = dfc\n",
    "    del dfc\n",
    "dfc = pd.concat(dict_ex.values())\n",
    "\n"
   ]
  },
  {
   "cell_type": "code",
   "execution_count": 11,
   "metadata": {
    "collapsed": false
   },
   "outputs": [
    {
     "name": "stdout",
     "output_type": "stream",
     "text": [
      "all done\n"
     ]
    }
   ],
   "source": [
    "#Here I am doing a bunch of operations to clean data and fill NaN\n",
    "\n",
    "dfc = dfc[['CPC (Cost per Link Click) (USD)','Impressions','Link Clicks','Reporting Starts','Amount Spent (USD)','Ad Set Name','Ad Name','Campaign Name','CTR (Link Click-Through Rate)','Website Adds to Cart','Website Purchases']]\n",
    "dfc[\"Campaign Name\"]=dfc[\"Campaign Name\"].astype(str)\n",
    "dfc[\"Ad Set Name\"]=dfc[\"Ad Set Name\"].astype(str)\n",
    "dfc[\"Ad Name\"]=dfc[\"Ad Name\"].astype(str)\n",
    "dfc[\"Website Adds to Cart\"]=dfc[\"Website Adds to Cart\"].astype(float).fillna(0)\n",
    "dfc[\"Link Clicks\"]=dfc[\"Link Clicks\"].astype(float).fillna(0)\n",
    "dfc[\"CPC (Cost per Link Click) (USD)\"]=dfc[\"CPC (Cost per Link Click) (USD)\"].astype(float).fillna(0)\n",
    "dfc[\"Website Purchases\"]=dfc[\"Website Purchases\"].astype(float).fillna(0)\n",
    "dfc[\"Amount Spent (USD)\"]=dfc[\"Amount Spent (USD)\"].astype(float).fillna(0)\n",
    "dfc[\"CTR (Link Click-Through Rate)\"]=dfc[\"CTR (Link Click-Through Rate)\"].astype(float).fillna(0)\n",
    "dfc[\"Impressions\"]=dfc[\"Impressions\"].astype(float).fillna(0)\n",
    "dfc[\"Website Adds to Cart\"] = pd.to_numeric(dfc[\"Website Adds to Cart\"])\n",
    "dfc[\"CPC (Cost per Link Click) (USD)\"] = pd.to_numeric(dfc[\"CPC (Cost per Link Click) (USD)\"])\n",
    "dfc[\"Website Purchases\"] = pd.to_numeric(dfc[\"Website Purchases\"])\n",
    "dfc[\"Impressions\"] = pd.to_numeric(dfc[\"Impressions\"])\n",
    "dfc[\"CTR (Link Click-Through Rate)\"] = pd.to_numeric(dfc[\"CTR (Link Click-Through Rate)\"])\n",
    "dfc[\"Amount Spent (USD)\"] = pd.to_numeric(dfc[\"Amount Spent (USD)\"])\n",
    "dfc[\"Link Clicks\"] = pd.to_numeric(dfc[\"Link Clicks\"])\n",
    "#dfc['CTR (Link Click-Through Rate)'] = dfc.apply(f, axis=1)\n",
    "\n",
    "\n",
    "print(\"all done\")"
   ]
  },
  {
   "cell_type": "code",
   "execution_count": 12,
   "metadata": {
    "collapsed": false
   },
   "outputs": [
    {
     "data": {
      "text/html": [
       "<div>\n",
       "<style scoped>\n",
       "    .dataframe tbody tr th:only-of-type {\n",
       "        vertical-align: middle;\n",
       "    }\n",
       "\n",
       "    .dataframe tbody tr th {\n",
       "        vertical-align: top;\n",
       "    }\n",
       "\n",
       "    .dataframe thead th {\n",
       "        text-align: right;\n",
       "    }\n",
       "</style>\n",
       "<table border=\"1\" class=\"dataframe\">\n",
       "  <thead>\n",
       "    <tr style=\"text-align: right;\">\n",
       "      <th></th>\n",
       "      <th>CPC (Cost per Link Click) (USD)</th>\n",
       "      <th>Impressions</th>\n",
       "      <th>Link Clicks</th>\n",
       "      <th>Reporting Starts</th>\n",
       "      <th>Amount Spent (USD)</th>\n",
       "      <th>Ad Set Name</th>\n",
       "      <th>Ad Name</th>\n",
       "      <th>Campaign Name</th>\n",
       "      <th>CTR (Link Click-Through Rate)</th>\n",
       "      <th>Website Adds to Cart</th>\n",
       "      <th>Website Purchases</th>\n",
       "    </tr>\n",
       "    <tr>\n",
       "      <th>Reporting Starts</th>\n",
       "      <th></th>\n",
       "      <th></th>\n",
       "      <th></th>\n",
       "      <th></th>\n",
       "      <th></th>\n",
       "      <th></th>\n",
       "      <th></th>\n",
       "      <th></th>\n",
       "      <th></th>\n",
       "      <th></th>\n",
       "      <th></th>\n",
       "    </tr>\n",
       "  </thead>\n",
       "  <tbody>\n",
       "    <tr>\n",
       "      <th>2017-10-21</th>\n",
       "      <td>0.000000</td>\n",
       "      <td>18.0</td>\n",
       "      <td>0.0</td>\n",
       "      <td>2017-10-21</td>\n",
       "      <td>0.24</td>\n",
       "      <td>STG1_Faraday_500k_LAL_Lead_Conversion</td>\n",
       "      <td>UTC_MakingMovingSuckLess_00</td>\n",
       "      <td>STAGE01 - EDUCATION</td>\n",
       "      <td>0.000000</td>\n",
       "      <td>0.0</td>\n",
       "      <td>0.0</td>\n",
       "    </tr>\n",
       "    <tr>\n",
       "      <th>2017-10-21</th>\n",
       "      <td>0.465670</td>\n",
       "      <td>4213.0</td>\n",
       "      <td>97.0</td>\n",
       "      <td>2017-10-21</td>\n",
       "      <td>45.17</td>\n",
       "      <td>STG0_2%10%LAL_Best_Customers</td>\n",
       "      <td>Business_Insider_Carousel_00</td>\n",
       "      <td>STAGE00 - AWARENESS</td>\n",
       "      <td>2.302397</td>\n",
       "      <td>2.0</td>\n",
       "      <td>0.0</td>\n",
       "    </tr>\n",
       "    <tr>\n",
       "      <th>2017-10-21</th>\n",
       "      <td>0.000000</td>\n",
       "      <td>56.0</td>\n",
       "      <td>0.0</td>\n",
       "      <td>2017-10-21</td>\n",
       "      <td>0.65</td>\n",
       "      <td>STG1_0%2%LAL_Best_Customers - Combined</td>\n",
       "      <td>EXP_LifeProof_00</td>\n",
       "      <td>STAGE01 - EDUCATION</td>\n",
       "      <td>0.000000</td>\n",
       "      <td>0.0</td>\n",
       "      <td>0.0</td>\n",
       "    </tr>\n",
       "    <tr>\n",
       "      <th>2017-10-21</th>\n",
       "      <td>0.754847</td>\n",
       "      <td>16028.0</td>\n",
       "      <td>295.0</td>\n",
       "      <td>2017-10-21</td>\n",
       "      <td>222.68</td>\n",
       "      <td>STG1_0%2%LAL_Best_Customers - Combined</td>\n",
       "      <td>EXP_MadeForPlay_00</td>\n",
       "      <td>STAGE01 - EDUCATION</td>\n",
       "      <td>1.840529</td>\n",
       "      <td>30.0</td>\n",
       "      <td>2.0</td>\n",
       "    </tr>\n",
       "    <tr>\n",
       "      <th>2017-10-21</th>\n",
       "      <td>0.687500</td>\n",
       "      <td>203.0</td>\n",
       "      <td>8.0</td>\n",
       "      <td>2017-10-21</td>\n",
       "      <td>5.50</td>\n",
       "      <td>STG2_30DayVisitor_Combined</td>\n",
       "      <td>EXP_SmartDesign_00_LP_Assembly</td>\n",
       "      <td>STAGE02 - VALIDATION</td>\n",
       "      <td>3.940887</td>\n",
       "      <td>0.0</td>\n",
       "      <td>0.0</td>\n",
       "    </tr>\n",
       "  </tbody>\n",
       "</table>\n",
       "</div>"
      ],
      "text/plain": [
       "                  CPC (Cost per Link Click) (USD)  Impressions  Link Clicks  \\\n",
       "Reporting Starts                                                              \n",
       "2017-10-21                               0.000000         18.0          0.0   \n",
       "2017-10-21                               0.465670       4213.0         97.0   \n",
       "2017-10-21                               0.000000         56.0          0.0   \n",
       "2017-10-21                               0.754847      16028.0        295.0   \n",
       "2017-10-21                               0.687500        203.0          8.0   \n",
       "\n",
       "                 Reporting Starts  Amount Spent (USD)  \\\n",
       "Reporting Starts                                        \n",
       "2017-10-21             2017-10-21                0.24   \n",
       "2017-10-21             2017-10-21               45.17   \n",
       "2017-10-21             2017-10-21                0.65   \n",
       "2017-10-21             2017-10-21              222.68   \n",
       "2017-10-21             2017-10-21                5.50   \n",
       "\n",
       "                                             Ad Set Name  \\\n",
       "Reporting Starts                                           \n",
       "2017-10-21         STG1_Faraday_500k_LAL_Lead_Conversion   \n",
       "2017-10-21                  STG0_2%10%LAL_Best_Customers   \n",
       "2017-10-21        STG1_0%2%LAL_Best_Customers - Combined   \n",
       "2017-10-21        STG1_0%2%LAL_Best_Customers - Combined   \n",
       "2017-10-21                    STG2_30DayVisitor_Combined   \n",
       "\n",
       "                                         Ad Name         Campaign Name  \\\n",
       "Reporting Starts                                                         \n",
       "2017-10-21           UTC_MakingMovingSuckLess_00   STAGE01 - EDUCATION   \n",
       "2017-10-21          Business_Insider_Carousel_00   STAGE00 - AWARENESS   \n",
       "2017-10-21                      EXP_LifeProof_00   STAGE01 - EDUCATION   \n",
       "2017-10-21                    EXP_MadeForPlay_00   STAGE01 - EDUCATION   \n",
       "2017-10-21        EXP_SmartDesign_00_LP_Assembly  STAGE02 - VALIDATION   \n",
       "\n",
       "                  CTR (Link Click-Through Rate)  Website Adds to Cart  \\\n",
       "Reporting Starts                                                        \n",
       "2017-10-21                             0.000000                   0.0   \n",
       "2017-10-21                             2.302397                   2.0   \n",
       "2017-10-21                             0.000000                   0.0   \n",
       "2017-10-21                             1.840529                  30.0   \n",
       "2017-10-21                             3.940887                   0.0   \n",
       "\n",
       "                  Website Purchases  \n",
       "Reporting Starts                     \n",
       "2017-10-21                      0.0  \n",
       "2017-10-21                      0.0  \n",
       "2017-10-21                      0.0  \n",
       "2017-10-21                      2.0  \n",
       "2017-10-21                      0.0  "
      ]
     },
     "execution_count": 12,
     "metadata": {},
     "output_type": "execute_result"
    }
   ],
   "source": [
    "dfc.head()"
   ]
  },
  {
   "cell_type": "code",
   "execution_count": 13,
   "metadata": {
    "collapsed": true
   },
   "outputs": [],
   "source": [
    "#saving data\n",
    "dfc.to_csv('clean_data.csv')"
   ]
  }
 ],
 "metadata": {
  "anaconda-cloud": {},
  "kernelspec": {
   "display_name": "Python [default]",
   "language": "python",
   "name": "python3"
  },
  "language_info": {
   "codemirror_mode": {
    "name": "ipython",
    "version": 3
   },
   "file_extension": ".py",
   "mimetype": "text/x-python",
   "name": "python",
   "nbconvert_exporter": "python",
   "pygments_lexer": "ipython3",
   "version": "3.5.2"
  }
 },
 "nbformat": 4,
 "nbformat_minor": 2
}
